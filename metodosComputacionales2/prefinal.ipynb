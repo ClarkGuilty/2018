{
 "cells": [
  {
   "cell_type": "code",
   "execution_count": 2,
   "metadata": {},
   "outputs": [],
   "source": [
    "import numpy as np\n",
    "import matplotlib.pyplot as plt\n",
    "import pandas as pd\n"
   ]
  },
  {
   "cell_type": "markdown",
   "metadata": {},
   "source": [
    "http://www.mcmchandbook.net/HandbookChapter5.pdf\n",
    "En MC Hamiltoniano, el recorrido en el espacio de parámetros va a estar dado por un hamiltoniano clásico.\n",
    "H(p,q) = -ln(f(p,q)) donde M es una matriz de masa (hace las de sigma)\n"
   ]
  },
  {
   "cell_type": "code",
   "execution_count": 52,
   "metadata": {},
   "outputs": [
    {
     "data": {
      "text/plain": [
       "[<matplotlib.lines.Line2D at 0x7f637f5199b0>]"
      ]
     },
     "execution_count": 52,
     "metadata": {},
     "output_type": "execute_result"
    },
    {
     "data": {
      "image/png": "[encoded data removed]",
      "text/plain": [
       "<Figure size 432x288 with 1 Axes>"
      ]
     },
     "metadata": {},
     "output_type": "display_data"
    }
   ],
   "source": [
    "#Código de prueba\n",
    "#!wget https://raw.githubusercontent.com/ComputoCienciasUniandes/MetodosComputacionalesAvanzados/master/ejercicios/data/fitting.txt\n",
    "\n",
    "def loglikelihood(x_obs, y_obs, sigma_y_obs, param):\n",
    "    d = y_obs -  model(x_obs, param)\n",
    "    d = d/sigma_y_obs\n",
    "    d = -0.5 * np.sum(d**2)\n",
    "    return d\n",
    "\n",
    "\n",
    "def model(x,param):\n",
    "    n_param = len(param)\n",
    "    y = 0\n",
    "    for i in range(n_param):\n",
    "        y += param[i] * x**i\n",
    "    return y \n",
    "\n",
    "\n",
    "def hamiltonian(x_obs, y_obs, sigma_y_obs, param, param_momentum):\n",
    "    m = 100.0\n",
    "    K = 0.5 * np.sum(param_momentum**2)/m\n",
    "    V = -loglikelihood(x_obs, y_obs, sigma_y_obs, param)     \n",
    "    return K + V\n",
    "\n",
    "def diff_potential(x_obs, y_obs, sigma_y_obs, param):\n",
    "    n_param = len(param)\n",
    "    div = np.ones(n_param)\n",
    "    delta = 1E-5\n",
    "    for i in range(n_param):\n",
    "        delta_parameter = np.zeros(n_param)\n",
    "        delta_parameter[i] = delta\n",
    "        div[i] = loglikelihood(x_obs, y_obs, sigma_y_obs, param + delta_parameter) \n",
    "        div[i] = div[i] - loglikelihood(x_obs, y_obs, sigma_y_obs, param - delta_parameter)\n",
    "        div[i] = div[i]/(2.0 * delta)\n",
    "    return div\n",
    "\n",
    "#Se actualiza medio dt en p, se actualiza \n",
    "def leapfrog_proposal(x_obs, y_obs, sigma_y_obs, param, param_momentum):\n",
    "    N_steps = 5\n",
    "    delta_t = 1E-3\n",
    "    m = 10.0\n",
    "    new_param = param.copy()\n",
    "    new_param_momentum = param_momentum.copy()\n",
    "    for i in range(N_steps):\n",
    "        new_param_momentum = new_param_momentum + diff_potential(x_obs, y_obs, sigma_y_obs, param) * 0.5 * delta_t\n",
    "        new_param = new_param + (new_param_momentum/m) * delta_t\n",
    "        new_param_momentum = new_param_momentum + diff_potential(x_obs, y_obs, sigma_y_obs, param) * 0.5 * delta_t\n",
    "    new_param_momentum = -new_param_momentum\n",
    "    return new_param, new_param_momentum\n",
    "\n",
    "\n",
    "def monte_carlo(x_obs, y_obs, sigma_y_obs,grado=3, N=2000):\n",
    "    param = [np.random.random(grado)]\n",
    "    param_momentum = [np.random.normal(size=grado)]\n",
    "    for i in range(1,N):\n",
    "        propuesta_param, propuesta_param_momentum = leapfrog_proposal(x_obs, y_obs, sigma_y_obs, param[i-1], param_momentum[i-1])\n",
    "        energy_new = hamiltonian(x_obs, y_obs, sigma_y_obs, propuesta_param, propuesta_param_momentum)\n",
    "        energy_old = hamiltonian(x_obs, y_obs, sigma_y_obs, param[i-1], param_momentum[i-1])\n",
    "   \n",
    "        r = min(1,np.exp(-(energy_new - energy_old)))\n",
    "        alpha = np.random.random()\n",
    "       # print(r,alpha)\n",
    "        if(alpha<r):\n",
    "            param.append(propuesta_param)\n",
    "        else:\n",
    "            param.append(param[i-1])\n",
    "        param_momentum.append(np.random.normal(size=grado))    \n",
    "\n",
    "    param = np.array(param)\n",
    "    return param\n",
    "\n",
    "\n",
    "\n",
    "datosHMC = np.loadtxt('fitting.txt')\n",
    "sigma_real = datosHMC[:,2]\n",
    "y_real = datosHMC[:,1]\n",
    "x_real = datosHMC[:,0]\n",
    "x = np.linspace(np.min(x_real)*1.1,np.max(x_real)*1.1,100)\n",
    "fit = monte_carlo(x_real,y_real,sigma_real)\n",
    "best = []\n",
    "for i in range(len(fit[0])):\n",
    "    best.append(np.mean(fit[:,i]))\n",
    "plt.errorbar(x_real,y_real, yerr=sigma_real, fmt='o', label='obs')\n",
    "plt.plot(x,model(x,param=best))\n"
   ]
  },
  {
   "cell_type": "code",
   "execution_count": 74,
   "metadata": {},
   "outputs": [
    {
     "data": {
      "text/plain": [
       "[<matplotlib.lines.Line2D at 0x7f637f4c7828>]"
      ]
     },
     "execution_count": 74,
     "metadata": {},
     "output_type": "execute_result"
    },
    {
     "data": {
      "image/png": "[encoded data removed]",
      "text/plain": [
       "<Figure size 432x288 with 1 Axes>"
      ]
     },
     "metadata": {},
     "output_type": "display_data"
    }
   ],
   "source": [
    "#Montecarlo clásico.\n",
    "#Good ol'Metropolis\n",
    "def metropolis(x_obs, y_obs, sigma_obs,grade=3, N = 50000):\n",
    "    l_param = [np.random.random(grade)]\n",
    "    sigma_param = np.array([0.1]* grade)\n",
    "    n_param = len(sigma_param)\n",
    "    logposterior = [0]\n",
    "    for i in range(1,N):\n",
    "        propuesta  = l_param[i-1] + np.random.normal(size=n_param)*sigma_param\n",
    "        #print(propuesta)\n",
    "        logposterior_viejo = loglikelihood(x_obs, y_obs, sigma_obs,param=l_param[i-1]) \n",
    "        logposterior_nuevo = loglikelihood(x_obs, y_obs, sigma_obs,param=propuesta) \n",
    "\n",
    "        r = min(1,np.exp(logposterior_nuevo-logposterior_viejo))\n",
    "        alpha = np.random.random()\n",
    "        if(alpha<r):\n",
    "            l_param.append(propuesta)\n",
    "            logposterior.append(logposterior_nuevo)\n",
    "        else:\n",
    "            l_param.append(l_param[i-1])\n",
    "            logposterior.append(logposterior_viejo)\n",
    "    \n",
    "    l_param = np.array(l_param)\n",
    "    l_param = l_param[N//10:,:] # descartamos el primer 10% de la cadena\n",
    "    logposterior = np.array(logposterior)\n",
    "    logposterior = logposterior[N//10:]\n",
    "    return l_param, logposterior\n",
    "\n",
    "\n",
    "datosMetropolis = np.loadtxt('fitting.txt')\n",
    "sigma_real = datosMetropolis[:,2]\n",
    "y_real = datosMetropolis[:,1]\n",
    "x_real = datosMetropolis[:,0]\n",
    "x = np.linspace(np.min(x_real)*1.1,np.max(x_real)*1.1,100)\n",
    "fit, like = metropolis(x_real,y_real,sigma_real,grade=5)\n",
    "best = []\n",
    "for i in range(len(fit[0])):\n",
    "    best.append(np.mean(fit[:,i]))\n",
    "plt.errorbar(x_real,y_real, yerr=sigma_real, fmt='o', label='obs')\n",
    "plt.plot(x,model(x,param=best))\n",
    "plt.plot(x,model(x,param=fit[np.argmax(like)]))\n"
   ]
  },
  {
   "cell_type": "code",
   "execution_count": 70,
   "metadata": {},
   "outputs": [
    {
     "data": {
      "text/plain": [
       "array([-0.10476972,  0.04304711,  0.09702681])"
      ]
     },
     "execution_count": 70,
     "metadata": {},
     "output_type": "execute_result"
    }
   ],
   "source": [
    "fit[0][0]"
   ]
  },
  {
   "cell_type": "code",
   "execution_count": 58,
   "metadata": {},
   "outputs": [
    {
     "data": {
      "text/plain": [
       "array([0., 0., 0., 0., 0., 0., 0., 0., 0., 0., 0., 0., 0., 0., 0., 0., 0.,\n",
       "       0., 0., 0., 0., 0., 0., 0., 0., 0., 0., 0., 0., 0., 0., 0., 0., 0.,\n",
       "       0., 0., 0., 0., 0., 0., 0., 0., 0., 0., 0., 0., 0., 0., 0., 0., 0.,\n",
       "       0., 0., 0., 0., 0., 0., 0., 0., 0., 0., 0., 0., 0., 0., 0., 0., 0.,\n",
       "       0., 0., 0., 0., 0., 0., 0., 0., 0., 0., 0., 0., 0., 0., 0., 0., 0.,\n",
       "       0., 0., 0., 0., 0., 0., 0., 0., 0., 0., 0., 0., 0., 0., 0.])"
      ]
     },
     "execution_count": 58,
     "metadata": {},
     "output_type": "execute_result"
    }
   ],
   "source": [
    "np.zeros(100)"
   ]
  },
  {
   "cell_type": "code",
   "execution_count": null,
   "metadata": {},
   "outputs": [],
   "source": []
  }
 ],
 "metadata": {
  "kernelspec": {
   "display_name": "Python 3",
   "language": "python",
   "name": "python3"
  },
  "language_info": {
   "codemirror_mode": {
    "name": "ipython",
    "version": 3
   },
   "file_extension": ".py",
   "mimetype": "text/x-python",
   "name": "python",
   "nbconvert_exporter": "python",
   "pygments_lexer": "ipython3",
   "version": "3.6.5"
  }
 },
 "nbformat": 4,
 "nbformat_minor": 2
}
