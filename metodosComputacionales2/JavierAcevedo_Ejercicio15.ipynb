{
 "cells": [
  {
   "cell_type": "code",
   "execution_count": 1,
   "metadata": {},
   "outputs": [
    {
     "name": "stdout",
     "output_type": "stream",
     "text": [
      "--2018-09-26 07:00:00--  https://raw.githubusercontent.com/ComputoCienciasUniandes/MetodosComputacionalesAvanzados/master/secciones/06.RegresionLineal/Cars93.csv\n",
      "Resolving raw.githubusercontent.com (raw.githubusercontent.com)... 151.101.4.133\n",
      "Connecting to raw.githubusercontent.com (raw.githubusercontent.com)|151.101.4.133|:443... connected.\n",
      "HTTP request sent, awaiting response... 200 OK\n",
      "Length: 14870 (15K) [text/plain]\n",
      "Saving to: ‘Cars93.csv.1’\n",
      "\n",
      "Cars93.csv.1        100%[===================>]  14,52K  --.-KB/s    in 0,07s   \n",
      "\n",
      "2018-09-26 07:00:00 (209 KB/s) - ‘Cars93.csv.1’ saved [14870/14870]\n",
      "\n"
     ]
    }
   ],
   "source": [
    "import matplotlib.pyplot as plt\n",
    "import numpy as np\n",
    "import pandas as pd\n",
    "!wget https://raw.githubusercontent.com/ComputoCienciasUniandes/MetodosComputacionalesAvanzados/master/secciones/06.RegresionLineal/Cars93.csv"
   ]
  },
  {
   "cell_type": "code",
   "execution_count": 85,
   "metadata": {},
   "outputs": [],
   "source": [
    "data = pd.read_csv('Cars93.csv')\n",
    "subset = data[['Price', 'Horsepower', 'MPG.highway', 'Turn.circle']]\n"
   ]
  },
  {
   "cell_type": "code",
   "execution_count": 86,
   "metadata": {},
   "outputs": [],
   "source": [
    "import sklearn.linear_model\n",
    "import sklearn.model_selection"
   ]
  },
  {
   "cell_type": "code",
   "execution_count": 101,
   "metadata": {},
   "outputs": [
    {
     "data": {
      "text/plain": [
       "(93, 1)"
      ]
     },
     "execution_count": 101,
     "metadata": {},
     "output_type": "execute_result"
    }
   ],
   "source": [
    "Y = data['Price'].values.reshape(-1,1)\n",
    "X = data['Horsepower'].values.reshape(-1,1)\n",
    "N = len(Y[:,0])\n",
    "X.shape"
   ]
  },
  {
   "cell_type": "code",
   "execution_count": 188,
   "metadata": {},
   "outputs": [],
   "source": [
    "def partir(i,deltan,X,Y):\n",
    "    return np.array(X[i,:]), np.append(np.array(X[0:i,:]),np.array(X[i+1:N,:]) ), np.array(Y[i,:]), np.append(np.array(Y[0:i,:]),np.array(Y[i+1:N,:]) )\n",
    "\n",
    "def newX(grado):\n",
    "    k = ['Horsepower']\n",
    "    k = k*grado\n",
    "    rtao = np.copy(data[k])\n",
    "#    if(grado == 1): return data[k].values.reshape(-1,1)\n",
    "    for i in range(1,grado+1):\n",
    "        rtao[:,i-1] = rtao[:,i-1]**i\n",
    "    return rtao"
   ]
  },
  {
   "cell_type": "code",
   "execution_count": 189,
   "metadata": {},
   "outputs": [],
   "source": [
    "Y = data['Price'].values.reshape(-1,1)\n",
    "\n",
    "\n",
    "\n",
    "npoly = 1\n",
    "n_beta = npoly+1\n",
    "beta = np.ones(n_beta)\n",
    "def loocv(grado):\n",
    "    linear = sklearn.linear_model.LinearRegression()\n",
    "    X = newX(grado)\n",
    "    #print(X)\n",
    "    rta = 0\n",
    "    for k1 in range(N):\n",
    "        X_validation, X_train, Y_validation, Y_train = partir(k1,0,X,Y)\n",
    "        X_train = np.expand_dims(X_train,axis = 1)\n",
    "        X_validation = np.expand_dims(X_validation,axis = 1)\n",
    "        #Y_train = np.expand_dims(X_train,axis = 1)\n",
    "        #Y_validation = np.expand_dims(Y_validation,axis = 1)\n",
    "        \n",
    "        linear.fit(X_train, Y_train)\n",
    "    #print(linear.intercept_)\n",
    "        #beta[0] = linear.intercept_\n",
    "#        for j in range(1,n_beta):\n",
    "#            beta[j] = linear.coef_[j-1]\n",
    "#        print(Y_validation-linear.predict(X_validation))\n",
    "        #print(X_validation)\n",
    "        rta += np.sum((Y_validation-linear.predict(X_validation))**2)\n",
    "    return rta/N\n",
    "    \n",
    "#loocv(2)#N\n",
    "\n"
   ]
  },
  {
   "cell_type": "code",
   "execution_count": 187,
   "metadata": {},
   "outputs": [
    {
     "name": "stdout",
     "output_type": "stream",
     "text": [
      "satan\n"
     ]
    },
    {
     "ename": "ValueError",
     "evalue": "Found input variables with inconsistent numbers of samples: [184, 92]",
     "output_type": "error",
     "traceback": [
      "\u001b[0;31m---------------------------------------------------------------------------\u001b[0m",
      "\u001b[0;31mValueError\u001b[0m                                Traceback (most recent call last)",
      "\u001b[0;32m<ipython-input-187-10ea87244613>\u001b[0m in \u001b[0;36m<module>\u001b[0;34m()\u001b[0m\n\u001b[1;32m      2\u001b[0m \u001b[0marreglos\u001b[0m \u001b[0;34m=\u001b[0m \u001b[0mnp\u001b[0m\u001b[0;34m.\u001b[0m\u001b[0mzeros_like\u001b[0m\u001b[0;34m(\u001b[0m\u001b[0mgrados\u001b[0m\u001b[0;34m)\u001b[0m\u001b[0;34m\u001b[0m\u001b[0m\n\u001b[1;32m      3\u001b[0m \u001b[0;32mfor\u001b[0m \u001b[0mj\u001b[0m \u001b[0;32min\u001b[0m \u001b[0mrange\u001b[0m\u001b[0;34m(\u001b[0m\u001b[0;36m1\u001b[0m\u001b[0;34m,\u001b[0m\u001b[0mlen\u001b[0m\u001b[0;34m(\u001b[0m\u001b[0mgrados\u001b[0m\u001b[0;34m)\u001b[0m\u001b[0;34m)\u001b[0m\u001b[0;34m:\u001b[0m\u001b[0;34m\u001b[0m\u001b[0m\n\u001b[0;32m----> 4\u001b[0;31m     \u001b[0marreglos\u001b[0m\u001b[0;34m[\u001b[0m\u001b[0mj\u001b[0m\u001b[0;34m]\u001b[0m \u001b[0;34m=\u001b[0m \u001b[0mloocv\u001b[0m\u001b[0;34m(\u001b[0m\u001b[0mj\u001b[0m\u001b[0;34m)\u001b[0m\u001b[0;34m\u001b[0m\u001b[0m\n\u001b[0m\u001b[1;32m      5\u001b[0m     \u001b[0mprint\u001b[0m\u001b[0;34m(\u001b[0m\u001b[0;34m'satan'\u001b[0m\u001b[0;34m)\u001b[0m\u001b[0;34m\u001b[0m\u001b[0m\n\u001b[1;32m      6\u001b[0m \u001b[0mplt\u001b[0m\u001b[0;34m.\u001b[0m\u001b[0mplot\u001b[0m\u001b[0;34m(\u001b[0m\u001b[0mgrados\u001b[0m\u001b[0;34m,\u001b[0m\u001b[0marreglos\u001b[0m\u001b[0;34m)\u001b[0m\u001b[0;34m\u001b[0m\u001b[0m\n",
      "\u001b[0;32m<ipython-input-186-e2a193268d13>\u001b[0m in \u001b[0;36mloocv\u001b[0;34m(grado)\u001b[0m\n\u001b[1;32m     18\u001b[0m         \u001b[0;31m#Y_validation = np.expand_dims(Y_validation,axis = 1)\u001b[0m\u001b[0;34m\u001b[0m\u001b[0;34m\u001b[0m\u001b[0m\n\u001b[1;32m     19\u001b[0m \u001b[0;34m\u001b[0m\u001b[0m\n\u001b[0;32m---> 20\u001b[0;31m         \u001b[0mlinear\u001b[0m\u001b[0;34m.\u001b[0m\u001b[0mfit\u001b[0m\u001b[0;34m(\u001b[0m\u001b[0mX_train\u001b[0m\u001b[0;34m,\u001b[0m \u001b[0mY_train\u001b[0m\u001b[0;34m)\u001b[0m\u001b[0;34m\u001b[0m\u001b[0m\n\u001b[0m\u001b[1;32m     21\u001b[0m     \u001b[0;31m#print(linear.intercept_)\u001b[0m\u001b[0;34m\u001b[0m\u001b[0;34m\u001b[0m\u001b[0m\n\u001b[1;32m     22\u001b[0m         \u001b[0;31m#beta[0] = linear.intercept_\u001b[0m\u001b[0;34m\u001b[0m\u001b[0;34m\u001b[0m\u001b[0m\n",
      "\u001b[0;32m~/anaconda3/lib/python3.6/site-packages/sklearn/linear_model/base.py\u001b[0m in \u001b[0;36mfit\u001b[0;34m(self, X, y, sample_weight)\u001b[0m\n\u001b[1;32m    480\u001b[0m         \u001b[0mn_jobs_\u001b[0m \u001b[0;34m=\u001b[0m \u001b[0mself\u001b[0m\u001b[0;34m.\u001b[0m\u001b[0mn_jobs\u001b[0m\u001b[0;34m\u001b[0m\u001b[0m\n\u001b[1;32m    481\u001b[0m         X, y = check_X_y(X, y, accept_sparse=['csr', 'csc', 'coo'],\n\u001b[0;32m--> 482\u001b[0;31m                          y_numeric=True, multi_output=True)\n\u001b[0m\u001b[1;32m    483\u001b[0m \u001b[0;34m\u001b[0m\u001b[0m\n\u001b[1;32m    484\u001b[0m         \u001b[0;32mif\u001b[0m \u001b[0msample_weight\u001b[0m \u001b[0;32mis\u001b[0m \u001b[0;32mnot\u001b[0m \u001b[0;32mNone\u001b[0m \u001b[0;32mand\u001b[0m \u001b[0mnp\u001b[0m\u001b[0;34m.\u001b[0m\u001b[0matleast_1d\u001b[0m\u001b[0;34m(\u001b[0m\u001b[0msample_weight\u001b[0m\u001b[0;34m)\u001b[0m\u001b[0;34m.\u001b[0m\u001b[0mndim\u001b[0m \u001b[0;34m>\u001b[0m \u001b[0;36m1\u001b[0m\u001b[0;34m:\u001b[0m\u001b[0;34m\u001b[0m\u001b[0m\n",
      "\u001b[0;32m~/anaconda3/lib/python3.6/site-packages/sklearn/utils/validation.py\u001b[0m in \u001b[0;36mcheck_X_y\u001b[0;34m(X, y, accept_sparse, dtype, order, copy, force_all_finite, ensure_2d, allow_nd, multi_output, ensure_min_samples, ensure_min_features, y_numeric, warn_on_dtype, estimator)\u001b[0m\n\u001b[1;32m    581\u001b[0m         \u001b[0my\u001b[0m \u001b[0;34m=\u001b[0m \u001b[0my\u001b[0m\u001b[0;34m.\u001b[0m\u001b[0mastype\u001b[0m\u001b[0;34m(\u001b[0m\u001b[0mnp\u001b[0m\u001b[0;34m.\u001b[0m\u001b[0mfloat64\u001b[0m\u001b[0;34m)\u001b[0m\u001b[0;34m\u001b[0m\u001b[0m\n\u001b[1;32m    582\u001b[0m \u001b[0;34m\u001b[0m\u001b[0m\n\u001b[0;32m--> 583\u001b[0;31m     \u001b[0mcheck_consistent_length\u001b[0m\u001b[0;34m(\u001b[0m\u001b[0mX\u001b[0m\u001b[0;34m,\u001b[0m \u001b[0my\u001b[0m\u001b[0;34m)\u001b[0m\u001b[0;34m\u001b[0m\u001b[0m\n\u001b[0m\u001b[1;32m    584\u001b[0m \u001b[0;34m\u001b[0m\u001b[0m\n\u001b[1;32m    585\u001b[0m     \u001b[0;32mreturn\u001b[0m \u001b[0mX\u001b[0m\u001b[0;34m,\u001b[0m \u001b[0my\u001b[0m\u001b[0;34m\u001b[0m\u001b[0m\n",
      "\u001b[0;32m~/anaconda3/lib/python3.6/site-packages/sklearn/utils/validation.py\u001b[0m in \u001b[0;36mcheck_consistent_length\u001b[0;34m(*arrays)\u001b[0m\n\u001b[1;32m    202\u001b[0m     \u001b[0;32mif\u001b[0m \u001b[0mlen\u001b[0m\u001b[0;34m(\u001b[0m\u001b[0muniques\u001b[0m\u001b[0;34m)\u001b[0m \u001b[0;34m>\u001b[0m \u001b[0;36m1\u001b[0m\u001b[0;34m:\u001b[0m\u001b[0;34m\u001b[0m\u001b[0m\n\u001b[1;32m    203\u001b[0m         raise ValueError(\"Found input variables with inconsistent numbers of\"\n\u001b[0;32m--> 204\u001b[0;31m                          \" samples: %r\" % [int(l) for l in lengths])\n\u001b[0m\u001b[1;32m    205\u001b[0m \u001b[0;34m\u001b[0m\u001b[0m\n\u001b[1;32m    206\u001b[0m \u001b[0;34m\u001b[0m\u001b[0m\n",
      "\u001b[0;31mValueError\u001b[0m: Found input variables with inconsistent numbers of samples: [184, 92]"
     ]
    }
   ],
   "source": [
    "grados = np.arange(1,11)\n",
    "arreglos = np.zeros_like(grados)\n",
    "for j in range(1,len(grados)):\n",
    "    arreglos[j] = loocv(j)\n",
    "    print('satan')\n",
    "plt.plot(grados,arreglos)"
   ]
  },
  {
   "cell_type": "code",
   "execution_count": 184,
   "metadata": {},
   "outputs": [
    {
     "data": {
      "text/plain": [
       "array([[  140, 19600],\n",
       "       [  200, 40000],\n",
       "       [  172, 29584],\n",
       "       [  172, 29584],\n",
       "       [  208, 43264],\n",
       "       [  110, 12100],\n",
       "       [  170, 28900],\n",
       "       [  180, 32400],\n",
       "       [  170, 28900],\n",
       "       [  200, 40000],\n",
       "       [  295, 87025],\n",
       "       [  110, 12100],\n",
       "       [  110, 12100],\n",
       "       [  160, 25600],\n",
       "       [  110, 12100],\n",
       "       [  170, 28900],\n",
       "       [  165, 27225],\n",
       "       [  170, 28900],\n",
       "       [  300, 90000],\n",
       "       [  153, 23409],\n",
       "       [  141, 19881],\n",
       "       [  147, 21609],\n",
       "       [   92,  8464],\n",
       "       [   93,  8649],\n",
       "       [  100, 10000],\n",
       "       [  142, 20164],\n",
       "       [  100, 10000],\n",
       "       [  300, 90000],\n",
       "       [   92,  8464],\n",
       "       [  214, 45796],\n",
       "       [   63,  3969],\n",
       "       [  127, 16129],\n",
       "       [   96,  9216],\n",
       "       [  105, 11025],\n",
       "       [  115, 13225],\n",
       "       [  145, 21025],\n",
       "       [  140, 19600],\n",
       "       [  190, 36100],\n",
       "       [   55,  3025],\n",
       "       [   90,  8100],\n",
       "       [  160, 25600],\n",
       "       [  102, 10404],\n",
       "       [  140, 19600],\n",
       "       [   81,  6561],\n",
       "       [  124, 15376],\n",
       "       [   92,  8464],\n",
       "       [  128, 16384],\n",
       "       [  278, 77284],\n",
       "       [  185, 34225],\n",
       "       [  225, 50625],\n",
       "       [  160, 25600],\n",
       "       [  210, 44100],\n",
       "       [   82,  6724],\n",
       "       [  103, 10609],\n",
       "       [  164, 26896],\n",
       "       [  155, 24025],\n",
       "       [  255, 65025],\n",
       "       [  130, 16900],\n",
       "       [  217, 47089],\n",
       "       [  100, 10000],\n",
       "       [  140, 19600],\n",
       "       [   92,  8464],\n",
       "       [  202, 40804],\n",
       "       [  110, 12100],\n",
       "       [  150, 22500],\n",
       "       [  151, 22801],\n",
       "       [  160, 25600],\n",
       "       [  155, 24025],\n",
       "       [  110, 12100],\n",
       "       [  170, 28900],\n",
       "       [  170, 28900],\n",
       "       [   92,  8464],\n",
       "       [   74,  5476],\n",
       "       [  110, 12100],\n",
       "       [  160, 25600],\n",
       "       [  200, 40000],\n",
       "       [  170, 28900],\n",
       "       [  140, 19600],\n",
       "       [   85,  7225],\n",
       "       [   73,  5329],\n",
       "       [   90,  8100],\n",
       "       [  130, 16900],\n",
       "       [   70,  4900],\n",
       "       [   82,  6724],\n",
       "       [  135, 18225],\n",
       "       [  130, 16900],\n",
       "       [  138, 19044],\n",
       "       [   81,  6561],\n",
       "       [  109, 11881],\n",
       "       [  134, 17956],\n",
       "       [  178, 31684],\n",
       "       [  114, 12996],\n",
       "       [  168, 28224]])"
      ]
     },
     "execution_count": 184,
     "metadata": {},
     "output_type": "execute_result"
    }
   ],
   "source": [
    "newX()"
   ]
  },
  {
   "cell_type": "code",
   "execution_count": null,
   "metadata": {},
   "outputs": [],
   "source": []
  }
 ],
 "metadata": {
  "kernelspec": {
   "display_name": "Python 3",
   "language": "python",
   "name": "python3"
  },
  "language_info": {
   "codemirror_mode": {
    "name": "ipython",
    "version": 3
   },
   "file_extension": ".py",
   "mimetype": "text/x-python",
   "name": "python",
   "nbconvert_exporter": "python",
   "pygments_lexer": "ipython3",
   "version": "3.6.5"
  }
 },
 "nbformat": 4,
 "nbformat_minor": 2
}
