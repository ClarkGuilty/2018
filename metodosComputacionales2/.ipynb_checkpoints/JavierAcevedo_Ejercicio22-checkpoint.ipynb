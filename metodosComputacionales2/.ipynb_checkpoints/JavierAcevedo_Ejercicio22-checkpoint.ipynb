{
 "cells": [
  {
   "cell_type": "code",
   "execution_count": 96,
   "metadata": {},
   "outputs": [],
   "source": [
    "import numpy as np\n",
    "import matplotlib.pyplot as plt\n",
    "import pandas as pd\n",
    "import numpy.random as ran\n",
    "from mpl_toolkits.mplot3d import Axes3D\n",
    "from sklearn.svm import LinearSVC, SVC\n",
    "from sklearn.model_selection import cross_val_score\n",
    "from sklearn.metrics.scorer import make_scorer\n",
    "from sklearn.model_selection import train_test_split\n",
    "from sklearn.metrics import mean_squared_error as mse\n",
    "from sklearn.metrics import roc_auc_score\n",
    "\n",
    "#data = pd.read_csv('OJ.csv')"
   ]
  },
  {
   "cell_type": "code",
   "execution_count": 121,
   "metadata": {},
   "outputs": [
    {
     "name": "stderr",
     "output_type": "stream",
     "text": [
      "/home/clarkguilty/anaconda3/lib/python3.6/site-packages/ipykernel_launcher.py:7: SettingWithCopyWarning: \n",
      "A value is trying to be set on a copy of a slice from a DataFrame\n",
      "\n",
      "See the caveats in the documentation: http://pandas.pydata.org/pandas-docs/stable/indexing.html#indexing-view-versus-copy\n",
      "  import sys\n",
      "/home/clarkguilty/anaconda3/lib/python3.6/site-packages/ipykernel_launcher.py:8: SettingWithCopyWarning: \n",
      "A value is trying to be set on a copy of a slice from a DataFrame\n",
      "\n",
      "See the caveats in the documentation: http://pandas.pydata.org/pandas-docs/stable/indexing.html#indexing-view-versus-copy\n",
      "  \n"
     ]
    },
    {
     "name": "stdout",
     "output_type": "stream",
     "text": [
      "El mejor C para kernel lineal es  0.2\n",
      "El mejor gamma para kernel radial es  0.001\n"
     ]
    }
   ],
   "source": [
    "data = pd.read_csv('OJ.csv')\n",
    "Z=data['Purchase'].copy()\n",
    "llaves = list(data.keys())\n",
    "llaves.pop(1)\n",
    "llaves.pop(0)\n",
    "yolo = data['Store7']\n",
    "yolo[yolo == 'No'] = 0\n",
    "yolo[yolo == 'Yes'] = 1\n",
    "X=data[llaves[5:10]].copy()\n",
    "Z[Z == 'CH'] = 1\n",
    "Z[Z == 'MM'] = -1\n",
    "Z = Z.astype('int')\n",
    "ii = (Z==1)\n",
    "regresor = LinearSVC(random_state=0, C=1.0)\n",
    "X_train, X_test, Y_train, Y_test = train_test_split(X,Z, test_size=0.5)\n",
    "\n",
    "\n",
    "Max = 300 # de 0 a 3\n",
    "Min = 10\n",
    "rata = 100\n",
    "kfoldcv = np.zeros((Max-Min))\n",
    "kfoldcv2 = np.zeros((Max-Min))\n",
    "kerror = np.zeros((Max-Min))\n",
    "\n",
    "\n",
    "regresor.fit(X_train,Y_train)\n",
    "x = np.linspace(Min//rata,Max//rata,len(kfoldcv))\n",
    "x2 = np.linspace(-3,0.5,Max-Min)\n",
    "x2 = np.power(10,x2)\n",
    "for i in range(Min,Max):\n",
    "    actual = LinearSVC(random_state=0, C=i/rata)\n",
    "    #actual.fit(X_train,Y_train)\n",
    "    #coef = actual.coef_[0]\n",
    "    #inter = actual.intercept_\n",
    "    #y_pred = actual.predict(X_test)\n",
    "    #ks = cross_val_score(estimator=actual,scoring=make_scorer(mse), X=X, y=Z, cv=6)\n",
    "    ks = cross_val_score(estimator=actual,scoring=make_scorer(roc_auc_score,greater_is_better=True), X=X, y=Z, cv=10)\n",
    "    \n",
    "    kfoldcv[i-Min] = ks.mean()\n",
    "    actual2 = SVC(kernel='rbf',gamma=x2[i-Min])\n",
    "    #kerror[i-Min] = ks.std()/np.sqrt(6)\n",
    "    ks2 = cross_val_score(estimator=actual2,scoring=make_scorer(roc_auc_score,greater_is_better=True), X=X, y=Z, cv=10)\n",
    "    kfoldcv2[i-Min] = ks2.mean()\n",
    "    \n",
    "print(\"El mejor C para kernel lineal es \", np.argmin(kfoldcv)/rata)  \n",
    "print(\"El mejor gamma para kernel radial es \", x2[np.argmin(kfoldcv2)])  \n"
   ]
  },
  {
   "cell_type": "code",
   "execution_count": 123,
   "metadata": {},
   "outputs": [
    {
     "name": "stdout",
     "output_type": "stream",
     "text": [
      "El mejor C para kernel lineal es  0.2\n",
      "El mejor gamma para kernel radial es  0.001\n"
     ]
    },
    {
     "data": {
      "text/plain": [
       "[<matplotlib.lines.Line2D at 0x7ff62f021278>]"
      ]
     },
     "execution_count": 123,
     "metadata": {},
     "output_type": "execute_result"
    },
    {
     "data": {
      "image/png": "[encoded data removed]",
      "text/plain": [
       "<Figure size 864x360 with 2 Axes>"
      ]
     },
     "metadata": {},
     "output_type": "display_data"
    }
   ],
   "source": [
    "print(\"El mejor C para kernel lineal es \", np.argmin(kfoldcv)/rata)  \n",
    "print(\"El mejor gamma para kernel radial es \", x2[np.argmin(kfoldcv2)])  \n",
    "fig = plt.figure(figsize=(12,5))\n",
    "#plt\n",
    "#plt.errorbar(x,kfoldcv,yerr=kerror,fmt='o')\n",
    "fig.add_subplot(121)\n",
    "plt.plot(x,kfoldcv)\n",
    "\n",
    "ax = fig.add_subplot(122)\n",
    "ax.set_xscale('log')\n",
    "plt.plot(x2,kfoldcv2)"
   ]
  },
  {
   "cell_type": "code",
   "execution_count": 108,
   "metadata": {},
   "outputs": [],
   "source": [
    "#llaves\n",
    "#kfoldcv2\n",
    "#plt.scatter(np.linspace(-5,-0.1,len(x2)),x2)"
   ]
  },
  {
   "cell_type": "code",
   "execution_count": 124,
   "metadata": {},
   "outputs": [
    {
     "data": {
      "text/plain": [
       "array([1.00000000e-03, 1.02827843e-03, 1.05735653e-03, 1.08725692e-03,\n",
       "       1.11800284e-03, 1.14961821e-03, 1.18212761e-03, 1.21555632e-03,\n",
       "       1.24993035e-03, 1.28527642e-03, 1.32162202e-03, 1.35899542e-03,\n",
       "       1.39742568e-03, 1.43694269e-03, 1.47757717e-03, 1.51936074e-03,\n",
       "       1.56232588e-03, 1.60650600e-03, 1.65193547e-03, 1.69864962e-03,\n",
       "       1.74668477e-03, 1.79607827e-03, 1.84686855e-03, 1.89909510e-03,\n",
       "       1.95279853e-03, 2.00802061e-03, 2.06480428e-03, 2.12319371e-03,\n",
       "       2.18323430e-03, 2.24497274e-03, 2.30845705e-03, 2.37373660e-03,\n",
       "       2.44086215e-03, 2.50988590e-03, 2.58086154e-03, 2.65384426e-03,\n",
       "       2.72889081e-03, 2.80605957e-03, 2.88541053e-03, 2.96700542e-03,\n",
       "       3.05090768e-03, 3.13718256e-03, 3.22589717e-03, 3.31712048e-03,\n",
       "       3.41092345e-03, 3.50737901e-03, 3.60656219e-03, 3.70855012e-03,\n",
       "       3.81342210e-03, 3.92125970e-03, 4.03214677e-03, 4.14616956e-03,\n",
       "       4.26341673e-03, 4.38397947e-03, 4.50795154e-03, 4.63542934e-03,\n",
       "       4.76651201e-03, 4.90130150e-03, 5.03990262e-03, 5.18242317e-03,\n",
       "       5.32897397e-03, 5.47966899e-03, 5.63462544e-03, 5.79396381e-03,\n",
       "       5.95780803e-03, 6.12628550e-03, 6.29952724e-03, 6.47766800e-03,\n",
       "       6.66084629e-03, 6.84920458e-03, 7.04288935e-03, 7.24205121e-03,\n",
       "       7.44684507e-03, 7.65743017e-03, 7.87397029e-03, 8.09663382e-03,\n",
       "       8.32559393e-03, 8.56102867e-03, 8.80312114e-03, 9.05205960e-03,\n",
       "       9.30803765e-03, 9.57125436e-03, 9.84191443e-03, 1.01202283e-02,\n",
       "       1.04064125e-02, 1.07006896e-02, 1.10032883e-02, 1.13144440e-02,\n",
       "       1.16343988e-02, 1.19634013e-02, 1.23017075e-02, 1.26495805e-02,\n",
       "       1.30072908e-02, 1.33751166e-02, 1.37533440e-02, 1.41422670e-02,\n",
       "       1.45421881e-02, 1.49534184e-02, 1.53762776e-02, 1.58110946e-02,\n",
       "       1.62582076e-02, 1.67179642e-02, 1.71907220e-02, 1.76768487e-02,\n",
       "       1.81767222e-02, 1.86907315e-02, 1.92192760e-02, 1.97627670e-02,\n",
       "       2.03216271e-02, 2.08962908e-02, 2.14872052e-02, 2.20948296e-02,\n",
       "       2.27196368e-02, 2.33621125e-02, 2.40227564e-02, 2.47020823e-02,\n",
       "       2.54006184e-02, 2.61189081e-02, 2.68575099e-02, 2.76169981e-02,\n",
       "       2.83979635e-02, 2.92010134e-02, 3.00267723e-02, 3.08758823e-02,\n",
       "       3.17490039e-02, 3.26468159e-02, 3.35700167e-02, 3.45193241e-02,\n",
       "       3.54954765e-02, 3.64992329e-02, 3.75313740e-02, 3.85927024e-02,\n",
       "       3.96840435e-02, 4.08062460e-02, 4.19601827e-02, 4.31467508e-02,\n",
       "       4.43668733e-02, 4.56214989e-02, 4.69116034e-02, 4.82381900e-02,\n",
       "       4.96022903e-02, 5.10049653e-02, 5.24473058e-02, 5.39304334e-02,\n",
       "       5.54555014e-02, 5.70236961e-02, 5.86362368e-02, 6.02943776e-02,\n",
       "       6.19994081e-02, 6.37526541e-02, 6.55554792e-02, 6.74092854e-02,\n",
       "       6.93155143e-02, 7.12756483e-02, 7.32912119e-02, 7.53637725e-02,\n",
       "       7.74949418e-02, 7.96863772e-02, 8.19397830e-02, 8.42569116e-02,\n",
       "       8.66395650e-02, 8.90895960e-02, 9.16089101e-02, 9.41994664e-02,\n",
       "       9.68632797e-02, 9.96024213e-02, 1.02419022e-01, 1.05315271e-01,\n",
       "       1.08293422e-01, 1.11355790e-01, 1.14504757e-01, 1.17742772e-01,\n",
       "       1.21072353e-01, 1.24496089e-01, 1.28016643e-01, 1.31636753e-01,\n",
       "       1.35359234e-01, 1.39186981e-01, 1.43122971e-01, 1.47170264e-01,\n",
       "       1.51332008e-01, 1.55611440e-01, 1.60011888e-01, 1.64536773e-01,\n",
       "       1.69189615e-01, 1.73974032e-01, 1.78893745e-01, 1.83952580e-01,\n",
       "       1.89154470e-01, 1.94503462e-01, 2.00003715e-01, 2.05659506e-01,\n",
       "       2.11475235e-01, 2.17455423e-01, 2.23604721e-01, 2.29927912e-01,\n",
       "       2.36429913e-01, 2.43115780e-01, 2.49990713e-01, 2.57060059e-01,\n",
       "       2.64329314e-01, 2.71804132e-01, 2.79490327e-01, 2.87393875e-01,\n",
       "       2.95520924e-01, 3.03877792e-01, 3.12470979e-01, 3.21307169e-01,\n",
       "       3.30393232e-01, 3.39736234e-01, 3.49343442e-01, 3.59222327e-01,\n",
       "       3.69380571e-01, 3.79826074e-01, 3.90566960e-01, 4.01611582e-01,\n",
       "       4.12968527e-01, 4.24646630e-01, 4.36654971e-01, 4.49002889e-01,\n",
       "       4.61699986e-01, 4.74756138e-01, 4.88181497e-01, 5.01986504e-01,\n",
       "       5.16181896e-01, 5.30778710e-01, 5.45788300e-01, 5.61222337e-01,\n",
       "       5.77092825e-01, 5.93412105e-01, 6.10192869e-01, 6.27448167e-01,\n",
       "       6.45191417e-01, 6.63436419e-01, 6.82197360e-01, 7.01488832e-01,\n",
       "       7.21325836e-01, 7.41723800e-01, 7.62698586e-01, 7.84266506e-01,\n",
       "       8.06444333e-01, 8.29249314e-01, 8.52699185e-01, 8.76812181e-01,\n",
       "       9.01607054e-01, 9.27103088e-01, 9.53320110e-01, 9.80278508e-01,\n",
       "       1.00799925e+00, 1.03650389e+00, 1.06581459e+00, 1.09595416e+00,\n",
       "       1.12694602e+00, 1.15881429e+00, 1.19158374e+00, 1.22527986e+00,\n",
       "       1.25992885e+00, 1.29555766e+00, 1.33219400e+00, 1.36986636e+00,\n",
       "       1.40860403e+00, 1.44843715e+00, 1.48939668e+00, 1.53151448e+00,\n",
       "       1.57482331e+00, 1.61935684e+00, 1.66514971e+00, 1.71223754e+00,\n",
       "       1.76065693e+00, 1.81044555e+00, 1.86164211e+00, 1.91428643e+00,\n",
       "       1.96841945e+00, 2.02408326e+00, 2.08132116e+00, 2.14017766e+00,\n",
       "       2.20069853e+00, 2.26293084e+00, 2.32692297e+00, 2.39272470e+00,\n",
       "       2.46038721e+00, 2.52996310e+00, 2.60150649e+00, 2.67507301e+00,\n",
       "       2.75071988e+00, 2.82850593e+00, 2.90849164e+00, 2.99073922e+00,\n",
       "       3.07531264e+00, 3.16227766e+00])"
      ]
     },
     "execution_count": 124,
     "metadata": {},
     "output_type": "execute_result"
    }
   ],
   "source": [
    "len(Z)\n",
    "kfoldcv2\n",
    "x2"
   ]
  },
  {
   "cell_type": "code",
   "execution_count": null,
   "metadata": {},
   "outputs": [],
   "source": []
  },
  {
   "cell_type": "code",
   "execution_count": null,
   "metadata": {},
   "outputs": [],
   "source": []
  },
  {
   "cell_type": "code",
   "execution_count": null,
   "metadata": {},
   "outputs": [],
   "source": []
  },
  {
   "cell_type": "code",
   "execution_count": null,
   "metadata": {},
   "outputs": [],
   "source": []
  },
  {
   "cell_type": "code",
   "execution_count": null,
   "metadata": {},
   "outputs": [],
   "source": []
  },
  {
   "cell_type": "code",
   "execution_count": null,
   "metadata": {},
   "outputs": [],
   "source": []
  },
  {
   "cell_type": "code",
   "execution_count": null,
   "metadata": {},
   "outputs": [],
   "source": []
  },
  {
   "cell_type": "code",
   "execution_count": null,
   "metadata": {},
   "outputs": [],
   "source": []
  },
  {
   "cell_type": "code",
   "execution_count": null,
   "metadata": {},
   "outputs": [],
   "source": []
  }
 ],
 "metadata": {
  "kernelspec": {
   "display_name": "Python 3",
   "language": "python",
   "name": "python3"
  },
  "language_info": {
   "codemirror_mode": {
    "name": "ipython",
    "version": 3
   },
   "file_extension": ".py",
   "mimetype": "text/x-python",
   "name": "python",
   "nbconvert_exporter": "python",
   "pygments_lexer": "ipython3",
   "version": "3.6.5"
  }
 },
 "nbformat": 4,
 "nbformat_minor": 2
}
