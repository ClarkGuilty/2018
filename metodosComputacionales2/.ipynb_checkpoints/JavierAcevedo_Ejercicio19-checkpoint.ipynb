{
 "cells": [
  {
   "cell_type": "code",
   "execution_count": 64,
   "metadata": {},
   "outputs": [],
   "source": [
    "import numpy as np\n",
    "import matplotlib.pyplot as plt\n",
    "import pandas as pd\n",
    "import sklearn.model_selection\n",
    "import sklearn.tree as trees\n",
    "from sklearn.metrics import mean_squared_error as mse\n",
    "from sklearn.metrics import accuracy_score, roc_curve, precision_recall_curve, auc, roc_auc_score\n",
    "from sklearn.tree._tree import TREE_LEAF\n",
    "from sklearn.model_selection import cross_val_score\n",
    "from sklearn.metrics.scorer import make_scorer"
   ]
  },
  {
   "cell_type": "code",
   "execution_count": 65,
   "metadata": {},
   "outputs": [],
   "source": [
    "#!wget https://vincentarelbundock.github.io/Rdatasets/csv/ISLR/Hitters.csv"
   ]
  },
  {
   "cell_type": "code",
   "execution_count": 66,
   "metadata": {},
   "outputs": [
    {
     "data": {
      "text/plain": [
       "0.7195775644229366"
      ]
     },
     "execution_count": 66,
     "metadata": {},
     "output_type": "execute_result"
    }
   ],
   "source": [
    "data = pd.read_csv('Hitters.csv').dropna()\n",
    "features = ['Hits','HmRun','Years','Assists','RBI','Walks','AtBat']\n",
    "#features = ['Hits','Years']\n",
    "Y = np.log(data['Salary'])\n",
    "X = data[features]\n",
    "\n",
    "\n",
    "# Split in train and test\n",
    "X_train, X_test, Y_train, Y_test = sklearn.model_selection.train_test_split(X,Y, test_size=0.5)\n",
    "\n",
    "\n",
    "# Initialize fitting method, fit and predict\n",
    "f = trees.DecisionTreeRegressor()\n",
    "#  Fit with train\n",
    "f.fit(X_train, Y_train)\n",
    "X_train.shape\n",
    "y_test = f.predict(X_test)\n",
    "y_train = f.predict(X_train)\n",
    "#f.score(X_test, Y_test)\n",
    "#mse(Y_train,y_train)\n",
    "mse(Y_test,y_test)"
   ]
  },
  {
   "cell_type": "code",
   "execution_count": 120,
   "metadata": {},
   "outputs": [
    {
     "name": "stdout",
     "output_type": "stream",
     "text": [
      "De acuerdo a Cross-Validation, el mejor árbol tiene : 9 hojas\n"
     ]
    },
    {
     "data": {
      "image/png": "[encoded data removed]",
      "text/plain": [
       "<Figure size 432x288 with 1 Axes>"
      ]
     },
     "metadata": {},
     "output_type": "display_data"
    }
   ],
   "source": [
    "maxLeaves= 10\n",
    "n0 = 2\n",
    "msesTest = np.zeros((maxLeaves-n0))\n",
    "msesTrain = np.zeros((maxLeaves-n0))\n",
    "kfoldcv = np.zeros((maxLeaves-n0))\n",
    "kerror = np.zeros((maxLeaves-n0))\n",
    "\n",
    "nleaves = np.arange(n0,maxLeaves)\n",
    "for i in nleaves:\n",
    "    model = trees.DecisionTreeRegressor(max_leaf_nodes=i, min_samples_split =0.05, \n",
    "                                        min_samples_leaf=1,min_weight_fraction_leaf=0.0)\n",
    "    model.fit(X_train, Y_train)\n",
    "    y_test = model.predict(X_test)\n",
    "    y_train = model.predict(X_train)\n",
    "    msesTest[i-n0] = mse(Y_test,y_test)\n",
    "    msesTrain[i-n0] = mse(Y_train,y_train)\n",
    "    kscores = cross_val_score(estimator=model,scoring=make_scorer(mse), X=X_train, y=Y_train, cv=6)\n",
    "    kfoldcv[i-n0] = kscores.mean()\n",
    "    kerror[i-n0] = kscores.std()/np.sqrt(6)\n",
    "    \n",
    "    \n",
    "print(\"De acuerdo a Cross-Validation, el mejor árbol tiene : {:d} hojas\".format(np.argmin(kfoldcv)+2))\n",
    "\n",
    "\n",
    "plt.plot(nleaves,msesTest, color = 'orange', label = 'Test')\n",
    "plt.plot(nleaves,msesTrain, color = 'b', label = 'Train')\n",
    "plt.plot(nleaves,kfoldcv, color = 'g', label = 'Cross-Validation')\n",
    "plt.scatter(nleaves,msesTest, color = 'orange')\n",
    "plt.scatter(nleaves,msesTrain, color = 'b')\n",
    "plt.scatter(nleaves,kfoldcv, color = 'green')\n",
    "plt.errorbar(nleaves,kfoldcv, yerr=kerror, color = 'green',fmt='--o',barsabove=True)\n",
    "plt.legend()\n",
    "plt.xlabel('Tree size')\n",
    "plt.ylabel('Mean Squared Error')\n",
    "plt.savefig('fig85.png')"
   ]
  },
  {
   "cell_type": "code",
   "execution_count": 121,
   "metadata": {
    "scrolled": true
   },
   "outputs": [],
   "source": [
    "#!wget https://archive.ics.uci.edu/ml/machine-learning-databases/heart-disease/processed.cleveland.data\n"
   ]
  },
  {
   "cell_type": "code",
   "execution_count": 122,
   "metadata": {},
   "outputs": [
    {
     "name": "stderr",
     "output_type": "stream",
     "text": [
      "/home/clarko/anaconda3/lib/python3.6/site-packages/ipykernel_launcher.py:14: SettingWithCopyWarning: \n",
      "A value is trying to be set on a copy of a slice from a DataFrame\n",
      "\n",
      "See the caveats in the documentation: http://pandas.pydata.org/pandas-docs/stable/indexing.html#indexing-view-versus-copy\n",
      "  \n",
      "/home/clarko/anaconda3/lib/python3.6/site-packages/ipykernel_launcher.py:15: SettingWithCopyWarning: \n",
      "A value is trying to be set on a copy of a slice from a DataFrame\n",
      "\n",
      "See the caveats in the documentation: http://pandas.pydata.org/pandas-docs/stable/indexing.html#indexing-view-versus-copy\n",
      "  from ipykernel import kernelapp as app\n"
     ]
    },
    {
     "data": {
      "text/plain": [
       "0.24324324324324326"
      ]
     },
     "execution_count": 122,
     "metadata": {},
     "output_type": "execute_result"
    }
   ],
   "source": [
    "data = pd.read_csv('processed.cleveland.data')\n",
    "data = data[data != '?']\n",
    "data.dropna(inplace=True)\n",
    "\n",
    "#data = data[data.notnull()]\n",
    "keys = data.keys()\n",
    "names = ('age','sex','cp','trestbps','chol','fbs','restecg','thalach','exang','oldpeak','slope','ca','thal','num')\n",
    "dic = {keys[k]: names[k] for k in range(len(keys))}\n",
    "data.columns=names\n",
    "features = ['age','sex','cp','trestbps','chol','fbs','restecg','thalach','exang','oldpeak','slope','ca','thal']\n",
    "#features = ['Hits','Years']\n",
    "\n",
    "\n",
    "data.num[data.num > 0] = 1 \n",
    "data.num[data.num == 0] = 0\n",
    "\n",
    "Y = data['num']\n",
    "X = data[features]\n",
    "\n",
    "\n",
    "# Split in train and test\n",
    "X_train, X_test, Y_train, Y_test = sklearn.model_selection.train_test_split(X,Y, test_size=0.5)\n",
    "\n",
    "\n",
    "# Initialize fitting method, fit and predict\n",
    "f = trees.DecisionTreeRegressor()\n",
    "#  Fit with train\n",
    "f.fit(X_train, Y_train)\n",
    "X_train.shape\n",
    "y_test = f.predict(X_test)\n",
    "y_train = f.predict(X_train)\n",
    "#f.score(X_test, Y_test)\n",
    "#mse(Y_train,y_train)\n",
    "mse(Y_test,y_test)"
   ]
  },
  {
   "cell_type": "code",
   "execution_count": 123,
   "metadata": {},
   "outputs": [
    {
     "name": "stdout",
     "output_type": "stream",
     "text": [
      "De acuerdo a Cross-Validation, el mejor árbol tiene : 3 hojas\n"
     ]
    },
    {
     "data": {
      "image/png": "[encoded data removed]",
      "text/plain": [
       "<Figure size 432x288 with 1 Axes>"
      ]
     },
     "metadata": {},
     "output_type": "display_data"
    }
   ],
   "source": [
    "maxLeaves= 17\n",
    "n0 = 2\n",
    "msesTest = np.zeros((maxLeaves-n0))\n",
    "msesTrain = np.zeros((maxLeaves-n0))\n",
    "kfoldcv = np.zeros((maxLeaves-n0))\n",
    "kerror = np.zeros((maxLeaves-n0))\n",
    "\n",
    "nleaves = np.arange(n0,maxLeaves)\n",
    "for i in nleaves:\n",
    "    model = trees.DecisionTreeRegressor(max_leaf_nodes=i, min_samples_split =0.05, \n",
    "                                        min_samples_leaf=1,min_weight_fraction_leaf=0.0)\n",
    "    model.fit(X_train, Y_train)\n",
    "    y_test = model.predict(X_test)\n",
    "    y_train = model.predict(X_train)\n",
    "    msesTest[i-n0] = mse(Y_test,y_test)\n",
    "    msesTrain[i-n0] = mse(Y_train,y_train)\n",
    "    kscores = cross_val_score(estimator=model,scoring=make_scorer(mse), X=X_train, y=Y_train, cv=6)\n",
    "    kfoldcv[i-n0] = kscores.mean()\n",
    "    kerror[i-n0] = kscores.std()/np.sqrt(6)\n",
    "    \n",
    "    \n",
    "\n",
    "print(\"De acuerdo a Cross-Validation, el mejor árbol tiene : {:d} hojas\".format(np.argmin(kfoldcv)+2))\n",
    "    \n",
    "plt.plot(nleaves,msesTest, color = 'orange', label = 'Test')\n",
    "plt.plot(nleaves,msesTrain, color = 'b', label = 'Train')\n",
    "plt.plot(nleaves,kfoldcv, color = 'g', label = 'Cross-Validation')\n",
    "plt.scatter(nleaves,msesTest, color = 'orange')\n",
    "plt.scatter(nleaves,msesTrain, color = 'b')\n",
    "plt.scatter(nleaves,kfoldcv, color = 'green')\n",
    "plt.errorbar(nleaves,kfoldcv, yerr=kerror, color = 'green',fmt='--o',barsabove=True)\n",
    "\n",
    "plt.legend()\n",
    "plt.xlabel('Tree size')\n",
    "plt.ylabel('Mean Squared Error')\n",
    "plt.savefig('fig86.png')"
   ]
  },
  {
   "cell_type": "code",
   "execution_count": null,
   "metadata": {},
   "outputs": [],
   "source": [
    "\n"
   ]
  },
  {
   "cell_type": "code",
   "execution_count": 124,
   "metadata": {},
   "outputs": [],
   "source": [
    "#!wget https://vincentarelbundock.github.io/Rdatasets/csv/ISLR/OJ.csv"
   ]
  },
  {
   "cell_type": "code",
   "execution_count": 125,
   "metadata": {},
   "outputs": [
    {
     "name": "stdout",
     "output_type": "stream",
     "text": [
      "['WeekofPurchase', 'StoreID', 'PriceCH', 'PriceMM', 'DiscCH', 'DiscMM', 'SpecialCH', 'SpecialMM', 'LoyalCH', 'SalePriceMM', 'SalePriceCH', 'PriceDiff', 'PctDiscMM', 'PctDiscCH', 'ListPriceDiff', 'STORE']\n"
     ]
    },
    {
     "name": "stderr",
     "output_type": "stream",
     "text": [
      "/home/clarko/anaconda3/lib/python3.6/site-packages/ipykernel_launcher.py:19: SettingWithCopyWarning: \n",
      "A value is trying to be set on a copy of a slice from a DataFrame\n",
      "\n",
      "See the caveats in the documentation: http://pandas.pydata.org/pandas-docs/stable/indexing.html#indexing-view-versus-copy\n",
      "/home/clarko/anaconda3/lib/python3.6/site-packages/ipykernel_launcher.py:20: SettingWithCopyWarning: \n",
      "A value is trying to be set on a copy of a slice from a DataFrame\n",
      "\n",
      "See the caveats in the documentation: http://pandas.pydata.org/pandas-docs/stable/indexing.html#indexing-view-versus-copy\n"
     ]
    },
    {
     "data": {
      "text/plain": [
       "0.9953271028037383"
      ]
     },
     "execution_count": 125,
     "metadata": {},
     "output_type": "execute_result"
    }
   ],
   "source": [
    "data = pd.read_csv('OJ.csv')\n",
    "#data = data[data != '?']\n",
    "#data.dropna(inplace=True)\n",
    "\n",
    "llaves = list(data.keys())\n",
    "llaves.pop(14)\n",
    "llaves.pop(0)\n",
    "llaves.pop(0)\n",
    "\n",
    "\n",
    "#data.num[data.num > 0] = 1 \n",
    "#data.num[data.num == 0] = 0\n",
    "#data.Purchase[data.Purchase == 'CH'] = 1 #Citrus Hill\n",
    "#data.Purchase[data.Purchase == 'MM'] = 0 #Minute Maid Orange Juice\n",
    "\n",
    "print(llaves)\n",
    "\n",
    "Y = data['Purchase']\n",
    "Y[Y == 'CH'] = 1\n",
    "Y[Y == 'MM'] = 0\n",
    "Y=Y.astype('int')\n",
    "X = data[llaves]\n",
    "\n",
    "\n",
    "# Split in train and test\n",
    "X_train, X_test, Y_train, Y_test = sklearn.model_selection.train_test_split(X,Y, test_size=0.5)\n",
    "\n",
    "\n",
    "# Initialize fitting method, fit and predict\n",
    "f = trees.DecisionTreeClassifier()\n",
    "#  Fit with train\n",
    "f.fit(X_train, Y_train)\n",
    "X_train.shape\n",
    "y_test = f.predict(X_test)\n",
    "y_train = f.predict(X_train)\n",
    "#f.score(X_test, Y_test)\n",
    "#mse(Y_train,y_train)\n",
    "#mse(Y_test,y_test)\n",
    "\n",
    "roc_auc_score(Y_train,y_train)"
   ]
  },
  {
   "cell_type": "code",
   "execution_count": 126,
   "metadata": {},
   "outputs": [
    {
     "name": "stdout",
     "output_type": "stream",
     "text": [
      "De acuerdo a Cross-Validation, el mejor árbol tiene : 2 hojas\n"
     ]
    },
    {
     "data": {
      "image/png": "[encoded data removed]",
      "text/plain": [
       "<Figure size 432x288 with 1 Axes>"
      ]
     },
     "metadata": {},
     "output_type": "display_data"
    }
   ],
   "source": [
    "maxLeaves= 12\n",
    "n0 = 2\n",
    "msesTest = np.zeros((maxLeaves-n0))\n",
    "msesTrain = np.zeros((maxLeaves-n0))\n",
    "kfoldcv = np.zeros((maxLeaves-n0))\n",
    "kerror = np.zeros((maxLeaves-n0))\n",
    "\n",
    "nleaves = np.arange(n0,maxLeaves)\n",
    "for i in nleaves:\n",
    "    model = trees.DecisionTreeClassifier(max_depth=i, min_samples_split =0.05, \n",
    "                                        min_samples_leaf=1,min_weight_fraction_leaf=0.0)\n",
    "    model.fit(X_train, Y_train)\n",
    "    y_test = model.predict(X_test)\n",
    "    y_train = model.predict(X_train)\n",
    "    msesTest[i-n0] = roc_auc_score(Y_test,y_test)\n",
    "    msesTrain[i-n0] = roc_auc_score(Y_train,y_train)\n",
    "    kscores = cross_val_score(estimator=model,scoring=make_scorer(roc_auc_score,greater_is_better=True), X=X_train, y=Y_train, cv = 6)\n",
    "    kfoldcv[i-n0] = kscores.mean()\n",
    "    kerror[i-n0] = kscores.std()/np.sqrt(6)\n",
    "    \n",
    "    \n",
    "\n",
    "print(\"De acuerdo a Cross-Validation, el mejor árbol tiene : {:d} hojas\".format(np.argmax(kfoldcv)+2))\n",
    "    \n",
    "plt.plot(nleaves,msesTest, color = 'orange', label = 'Test')\n",
    "plt.plot(nleaves,msesTrain, color = 'b', label = 'Train')\n",
    "plt.plot(nleaves,kfoldcv, color = 'g', label = 'Cross-Validation')\n",
    "plt.scatter(nleaves,msesTest, color = 'orange')\n",
    "plt.scatter(nleaves,msesTrain, color = 'b')\n",
    "plt.scatter(nleaves,kfoldcv, color = 'green')\n",
    "plt.errorbar(nleaves,kfoldcv, yerr=kerror, color = 'green',fmt='--o',barsabove=True)\n",
    "plt.legend()\n",
    "plt.xlabel('Tree size')\n",
    "plt.ylabel('ROC Area Under Curve')\n",
    "plt.savefig('tercera.png')"
   ]
  },
  {
   "cell_type": "code",
   "execution_count": 127,
   "metadata": {},
   "outputs": [
    {
     "data": {
      "text/plain": [
       "numpy.int64"
      ]
     },
     "execution_count": 127,
     "metadata": {},
     "output_type": "execute_result"
    }
   ],
   "source": [
    "type(Y_train[0])"
   ]
  },
  {
   "cell_type": "code",
   "execution_count": null,
   "metadata": {},
   "outputs": [],
   "source": []
  },
  {
   "cell_type": "code",
   "execution_count": null,
   "metadata": {},
   "outputs": [],
   "source": []
  },
  {
   "cell_type": "code",
   "execution_count": null,
   "metadata": {},
   "outputs": [],
   "source": []
  },
  {
   "cell_type": "code",
   "execution_count": null,
   "metadata": {},
   "outputs": [],
   "source": []
  }
 ],
 "metadata": {
  "kernelspec": {
   "display_name": "Python 3",
   "language": "python",
   "name": "python3"
  },
  "language_info": {
   "codemirror_mode": {
    "name": "ipython",
    "version": 3
   },
   "file_extension": ".py",
   "mimetype": "text/x-python",
   "name": "python",
   "nbconvert_exporter": "python",
   "pygments_lexer": "ipython3",
   "version": "3.6.5"
  }
 },
 "nbformat": 4,
 "nbformat_minor": 2
}
