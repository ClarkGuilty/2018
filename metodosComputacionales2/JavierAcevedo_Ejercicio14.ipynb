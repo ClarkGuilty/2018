{
 "cells": [
  {
   "cell_type": "code",
   "execution_count": 1,
   "metadata": {},
   "outputs": [
    {
     "name": "stdout",
     "output_type": "stream",
     "text": [
      "--2018-09-21 07:16:22--  https://raw.githubusercontent.com/ComputoCienciasUniandes/MetodosComputacionalesAvanzados/master/secciones/06.RegresionLineal/Cars93.csv\n",
      "Resolving raw.githubusercontent.com (raw.githubusercontent.com)... 151.101.4.133\n",
      "Connecting to raw.githubusercontent.com (raw.githubusercontent.com)|151.101.4.133|:443... connected.\n",
      "HTTP request sent, awaiting response... 200 OK\n",
      "Length: 14870 (15K) [text/plain]\n",
      "Saving to: ‘Cars93.csv’\n",
      "\n",
      "Cars93.csv          100%[===================>]  14,52K  --.-KB/s    in 0,06s   \n",
      "\n",
      "2018-09-21 07:16:22 (227 KB/s) - ‘Cars93.csv’ saved [14870/14870]\n",
      "\n"
     ]
    }
   ],
   "source": [
    "import matplotlib.pyplot as plt\n",
    "import numpy as np\n",
    "import pandas as pd\n",
    "!wget https://raw.githubusercontent.com/ComputoCienciasUniandes/MetodosComputacionalesAvanzados/master/secciones/06.RegresionLineal/Cars93.csv"
   ]
  },
  {
   "cell_type": "code",
   "execution_count": 3,
   "metadata": {},
   "outputs": [],
   "source": [
    "data = pd.read_csv('Cars93.csv')\n",
    "subset = data[['Price', 'Horsepower', 'MPG.highway', 'Turn.circle']]\n"
   ]
  },
  {
   "cell_type": "code",
   "execution_count": 4,
   "metadata": {},
   "outputs": [],
   "source": [
    "import sklearn.linear_model\n",
    "import sklearn.model_selection"
   ]
  },
  {
   "cell_type": "code",
   "execution_count": 8,
   "metadata": {},
   "outputs": [],
   "source": [
    "X = data[['Horsepower', 'Turn.circle','MPG.highway']]\n",
    "Y = data['Price'].values.reshape(-1,1)"
   ]
  },
  {
   "cell_type": "code",
   "execution_count": 9,
   "metadata": {},
   "outputs": [],
   "source": [
    "X_train, X_validation, Y_train, Y_validation = sklearn.model_selection.train_test_split(X, Y, test_size=0.5)"
   ]
  },
  {
   "cell_type": "code",
   "execution_count": 16,
   "metadata": {},
   "outputs": [
    {
     "name": "stdout",
     "output_type": "stream",
     "text": [
      "betas: 9.65013643588024 0.10513237581368523 0.07090960892695627 -0.29522882677076445\n",
      "R2 (train vs. validation) 0.7195649254864139 0.5054064609707412\n"
     ]
    }
   ],
   "source": [
    "linear = sklearn.linear_model.LinearRegression()\n",
    "linear.fit(X_train, Y_train)\n",
    "beta0 = linear.intercept_[0]\n",
    "beta1 = linear.coef_[0][0]\n",
    "beta2 = linear.coef_[0][1]\n",
    "beta3 = linear.coef_[0][2]\n",
    "r2_train = linear.score(X_train, Y_train)\n",
    "r2_validation = linear.score(X_validation, Y_validation) \n",
    "print('betas:', beta0, beta1, beta2, beta3)\n",
    "print('R2 (train vs. validation)', r2_train, r2_validation)\n",
    "\n"
   ]
  },
  {
   "cell_type": "code",
   "execution_count": 17,
   "metadata": {},
   "outputs": [
    {
     "name": "stdout",
     "output_type": "stream",
     "text": [
      "ITERACION  0\n",
      "\t betas: 2.3680607367197233 0.11425084175445095 0.1308573494726253 -0.15756265696432323\n",
      "\t R2 (train vs. validation) 0.6232459991732939 0.6063057032403764\n",
      "ITERACION  1\n",
      "\t betas: 44.67474531490127 0.13483012752468634 -0.7575355911709131 -0.4988355153225171\n",
      "\t R2 (train vs. validation) 0.5799196188975306 0.6916654438958564\n",
      "ITERACION  2\n",
      "\t betas: 18.81783407714888 0.12415851201760127 -0.2456193787147866 -0.2906828620845161\n",
      "\t R2 (train vs. validation) 0.7204434032663117 0.5547912393420764\n",
      "ITERACION  3\n",
      "\t betas: 28.668137362837214 0.16502848373956525 -0.5380784303701664 -0.3546720932092522\n",
      "\t R2 (train vs. validation) 0.6985428115658219 0.3487971963726355\n",
      "ITERACION  4\n",
      "\t betas: 17.281639950103305 0.10328391992035486 -0.08139464142721507 -0.3554863785206027\n",
      "\t R2 (train vs. validation) 0.6751383687332824 0.5492111123264565\n",
      "ITERACION  5\n",
      "\t betas: 42.419441914153026 0.17420699887034224 -0.9444624456863766 -0.33409332281037907\n",
      "\t R2 (train vs. validation) 0.703877194157138 0.2656747092776537\n",
      "ITERACION  6\n",
      "\t betas: 28.47392103644539 0.12006792275249258 -0.3500304490091521 -0.42725960531228485\n",
      "\t R2 (train vs. validation) 0.6238711376232825 0.6382732480358688\n",
      "ITERACION  7\n",
      "\t betas: 30.648196129119118 0.13589521303447943 -0.5219850191641553 -0.3578339919339901\n",
      "\t R2 (train vs. validation) 0.6384498911211247 0.6129011311533227\n",
      "ITERACION  8\n",
      "\t betas: 40.91140560858082 0.11863276677634871 -0.6424238259640217 -0.46387290354627303\n",
      "\t R2 (train vs. validation) 0.5950368343994887 0.6555519260492841\n",
      "ITERACION  9\n",
      "\t betas: 47.20442447857465 0.1585809385539409 -0.9932529546281537 -0.3691697940178882\n",
      "\t R2 (train vs. validation) 0.6391885030560764 0.533486195563712\n"
     ]
    }
   ],
   "source": [
    "for i in range(10):\n",
    "    X_train, X_validation, Y_train, Y_validation = sklearn.model_selection.train_test_split(X, Y, test_size=0.5)\n",
    "    linear.fit(X_train, Y_train)\n",
    "    beta0 = linear.intercept_[0]\n",
    "    beta1 = linear.coef_[0][0]\n",
    "    beta2 = linear.coef_[0][1]\n",
    "    beta3 = linear.coef_[0][2]\n",
    "    r2_train = linear.score(X_train, Y_train)\n",
    "    r2_validation = linear.score(X_validation, Y_validation) \n",
    "    print('ITERACION ', i)\n",
    "    print('\\t betas:', beta0, beta1, beta2, beta3)\n",
    "    print('\\t R2 (train vs. validation)', r2_train, r2_validation)"
   ]
  },
  {
   "cell_type": "code",
   "execution_count": 18,
   "metadata": {},
   "outputs": [],
   "source": [
    "n_boot = 5000\n",
    "beta_0 = np.ones(n_boot)\n",
    "beta_1 = np.ones(n_boot)\n",
    "beta_2 = np.ones(n_boot)\n",
    "beta_3 = np.ones(n_boot)\n",
    "r2_train = np.ones(n_boot)\n",
    "r2_validation = np.ones(n_boot)\n",
    "\n",
    "linear = sklearn.linear_model.LinearRegression()\n",
    "for i in range(n_boot):\n",
    "    X_train, X_validation, Y_train, Y_validation = sklearn.model_selection.train_test_split(X, Y, test_size=0.5)\n",
    "    linear.fit(X_train, Y_train)\n",
    "    beta_0[i] = linear.intercept_[0]\n",
    "    beta_1[i] = linear.coef_[0][0]\n",
    "    beta_2[i] = linear.coef_[0][1]\n",
    "    beta_3[i] = linear.coef_[0][2]\n",
    "    r2_train[i] = linear.score(X_train, Y_train)\n",
    "    r2_validation[i] = linear.score(X_validation, Y_validation)"
   ]
  },
  {
   "cell_type": "code",
   "execution_count": 22,
   "metadata": {},
   "outputs": [
    {
     "data": {
      "image/png": "[encoded data removed]",
      "text/plain": [
       "<Figure size 1440x288 with 4 Axes>"
      ]
     },
     "metadata": {},
     "output_type": "display_data"
    }
   ],
   "source": [
    "plt.figure(figsize=(20,4))\n",
    "\n",
    "plt.subplot(141)\n",
    "_ = plt.hist(beta_0, bins=40)\n",
    "_ = plt.xlabel(r'$\\beta_0$')\n",
    "\n",
    "plt.subplot(142)\n",
    "_ = plt.hist(beta_1, bins=40)\n",
    "_ = plt.xlabel(r'$\\beta_1$')\n",
    "\n",
    "plt.subplot(143)\n",
    "_ = plt.hist(beta_2, bins=40)\n",
    "_ = plt.xlabel(r'$\\beta_2$')\n",
    "\n",
    "plt.subplot(144)\n",
    "_ = plt.hist(beta_3, bins=40)\n",
    "_ = plt.xlabel(r'$\\beta_2$')\n"
   ]
  },
  {
   "cell_type": "code",
   "execution_count": 27,
   "metadata": {},
   "outputs": [
    {
     "name": "stdout",
     "output_type": "stream",
     "text": [
      "beta 0 24.771678301328148 +/- 22.887709668991324\n",
      "beta 1 0.14155588729467677 +/- 0.04048477131456985\n",
      "beta 2 -0.41824532816149257 +/- 0.5539663644722024\n",
      "beta 3 -0.3207506471295958 +/- 0.22284533623779526\n",
      "Observando que las colas no son especialmente largas, se toma 1.5 desviacies estándar. Por lo que el único beta compatible con cero soes beta 3\n"
     ]
    }
   ],
   "source": [
    "print('beta 0 {} +/- {}'.format(beta_0.mean(),1.5* beta_0.std() ))\n",
    "print('beta 1 {} +/- {}'.format(beta_1.mean(), 1.5*beta_1.std() ))\n",
    "print('beta 2 {} +/- {}'.format(beta_2.mean(), 1.5*beta_2.std() ))\n",
    "print('beta 3 {} +/- {}'.format(beta_3.mean(), 1.5*beta_3.std() ))\n",
    "print('Observando que las colas no son especialmente largas, se toma 1.5 desviacies estándar. Por lo que el único beta compatible con cero soes beta 3')"
   ]
  },
  {
   "cell_type": "code",
   "execution_count": 28,
   "metadata": {},
   "outputs": [],
   "source": [
    "def model(x,params):\n",
    "    n = len(params)\n",
    "    rta = 0\n",
    "    for j in range(n):\n",
    "        rta += params[j] * x[j]\n",
    "    return rta\n",
    "\n",
    "\n",
    "def loglikelihood(x_obs, y_obs, s_ob, params):\n",
    "    y_model = poly(x_obs, params)\n",
    "    d = -0.5 * ((y_model - y_obs)/s_ob)**2\n",
    "    return np.sum(d)\n",
    "\n",
    "\n",
    "def logprior(params):\n",
    "    if( (params > 1.0).any() and (params < -1.0).any() ):\n",
    "        return -np.inf;\n",
    "    return 0.0\n",
    "\n",
    "def SME(x_obs,y_obs, sigma, params):\n",
    "    d = (y_obs - poly(x_obs,params))/sigma\n",
    "    return (1.0/len(params)* (np.sum(d**2)))\n",
    "\n",
    "def best(listaParams):\n",
    "    rta = np.zeros_like(listaParams[:,0])\n",
    "    for k in range(len(rta)):\n",
    "        rta[k] = np.mean(listaParams[k,:])\n",
    "    return rta\n",
    "    \n",
    "def entrenar(grado=5,N = 10000):\n",
    "    n = grado +1\n",
    "    propuestas = np.zeros(n)\n",
    "    listas = np.zeros((n, N))\n",
    "    logposterior = np.zeros(N)\n",
    "    listas[:,0] = np.random.random(len(listas[:,0]))\n",
    "    for i in range(1,N):\n",
    "        propuestas  = listas[:,i-1] + np.random.normal(loc=0.0, scale=0.3, size = n)\n",
    "        #print(propuestas.shape)\n",
    "        logposterior_viejo = loglikelihood(xtrain, ytrain, strain, listas[:,i-1]) + logprior(listas[:,i-1])\n",
    "        logposterior_nuevo = loglikelihood(xtrain, ytrain, strain, propuestas) + logprior(propuestas)\n",
    "#        print(logposterior_nuevo, logposterior_viejo)\n",
    "#        print(propuestas)\n",
    "        r = min(1,np.exp(logposterior_nuevo-logposterior_viejo))\n",
    "        alpha = np.random.random()\n",
    "        if(alpha<r):\n",
    "            listas[:, i] = propuestas\n",
    "#        print(listas[:,i] - propuestas)\n",
    "            logposterior[i] = logposterior_nuevo\n",
    "        else:\n",
    "            listas[:, i] = listas[:,i-1]\n",
    "#        print(listas[:,i] - listas[:,i-1])\n",
    "            logposterior[i] = logposterior_viejo\n",
    "#    print(listas)\n",
    "    return listas"
   ]
  },
  {
   "cell_type": "code",
   "execution_count": 74,
   "metadata": {},
   "outputs": [],
   "source": [
    "k = ['MPG.city', 'MPG.highway', 'EngineSize', \n",
    "   'Horsepower', 'RPM', 'Rev.per.mile',\n",
    "   'Fuel.tank.capacity', 'Passengers', 'Length',\n",
    "   'Wheelbase', 'Width', 'Turn.circle', 'Weight']\n",
    "X=data[k]"
   ]
  },
  {
   "cell_type": "code",
   "execution_count": 87,
   "metadata": {},
   "outputs": [],
   "source": [
    "n_boot = 5000\n",
    "n_beta = len(k)+1\n",
    "beta = np.ones((n_boot,n_beta))\n",
    "\n",
    "r2_train = np.ones(n_boot)\n",
    "r2_validation = np.ones(n_boot)\n",
    "\n",
    "linear = sklearn.linear_model.LinearRegression()\n",
    "for i in range(n_boot):\n",
    "    X_train, X_validation, Y_train, Y_validation = sklearn.model_selection.train_test_split(X, Y, test_size=0.5)\n",
    "    linear.fit(X_train, Y_train)\n",
    "    beta[i][0] = linear.intercept_[0]\n",
    "    for j in range(1,n_beta):\n",
    "        beta[i][j] = linear.coef_[0][j-1]\n",
    "    r2_train[i] = linear.score(X_train, Y_train)\n",
    "    r2_validation[i] = linear.score(X_validation, Y_validation)"
   ]
  },
  {
   "cell_type": "code",
   "execution_count": 93,
   "metadata": {},
   "outputs": [
    {
     "name": "stdout",
     "output_type": "stream",
     "text": [
      "beta0 11.955911939558797 +/- 28.561884826477144\n",
      "beta1 -0.0540802589307643 +/- 0.35372269544175305\n",
      "beta2 0.5675314846692872 +/- 1.1410446712378306\n",
      "beta3 0.03482371324621424 +/- 0.18485530740449388\n",
      "beta4 -0.385167729056172 +/- 0.5005433812516519\n",
      "beta5 0.010842975521949348 +/- 0.00715341798190872\n",
      "Las variables que NO son consistentes con cero\n",
      "MPG.highway\n",
      "EngineSize\n",
      "Horsepower\n",
      "Rev.per.mile\n"
     ]
    }
   ],
   "source": [
    "sigmas = 1.5\n",
    "for j in range(n_beta):\n",
    "    print('beta{:d} {} +/- {}'.format(j,beta[:,j].mean(), sigmas*beta[:,j].std() ))\n",
    "    \n",
    "nuevoK = []\n",
    "print('Las variables que NO son consistentes con cero')\n",
    "for j in range(1,n_beta):\n",
    "    if(beta[:,j].mean() - sigmas*beta[:,j].std() < 0 and beta[:,j].mean() +sigmas*beta[:,j].std() >0):\n",
    "        print(k[j-1])\n",
    "        nuevoK += [k[j-1]]"
   ]
  },
  {
   "cell_type": "code",
   "execution_count": 94,
   "metadata": {},
   "outputs": [],
   "source": [
    "X=data[nuevoK]"
   ]
  },
  {
   "cell_type": "code",
   "execution_count": 95,
   "metadata": {},
   "outputs": [],
   "source": [
    "n_boot = 5000\n",
    "n_beta = len(nuevoK)+1\n",
    "beta = np.ones((n_boot,n_beta))\n",
    "\n",
    "r2_train = np.ones(n_boot)\n",
    "r2_validation = np.ones(n_boot)\n",
    "\n",
    "linear = sklearn.linear_model.LinearRegression()\n",
    "for i in range(n_boot):\n",
    "    X_train, X_validation, Y_train, Y_validation = sklearn.model_selection.train_test_split(X, Y, test_size=0.5)\n",
    "    linear.fit(X_train, Y_train)\n",
    "    beta[i][0] = linear.intercept_[0]\n",
    "    for j in range(1,n_beta):\n",
    "        beta[i][j] = linear.coef_[0][j-1]\n",
    "    r2_train[i] = linear.score(X_train, Y_train)\n",
    "    r2_validation[i] = linear.score(X_validation, Y_validation)"
   ]
  },
  {
   "cell_type": "code",
   "execution_count": 96,
   "metadata": {},
   "outputs": [
    {
     "name": "stdout",
     "output_type": "stream",
     "text": [
      "El modelo que queda es\n",
      "beta0 -6.105086874416656 +/- 10.575431688159693\n",
      "beta1 -0.27589120368621944 +/- 0.16850161984366543\n",
      "beta2 1.5344063576454852 +/- 2.1488063783869102\n",
      "beta3 0.1334327422748168 +/- 0.0492169710195588\n",
      "beta4 0.004458136495909627 +/- 0.002696310300000957\n"
     ]
    }
   ],
   "source": [
    "sigmas = 1.5\n",
    "print('El modelo que queda es')\n",
    "for j in range(n_beta):\n",
    "    print('beta{:d} {} +/- {}'.format(j,beta[:,j].mean(), sigmas*beta[:,j].std() ))\n",
    "    \n"
   ]
  },
  {
   "cell_type": "code",
   "execution_count": 84,
   "metadata": {},
   "outputs": [
    {
     "data": {
      "text/plain": [
       "['MPG.highway', 'Fuel.tank.capacity', 'Length', 'Wheelbase', 'Weight']"
      ]
     },
     "execution_count": 84,
     "metadata": {},
     "output_type": "execute_result"
    }
   ],
   "source": []
  },
  {
   "cell_type": "code",
   "execution_count": null,
   "metadata": {},
   "outputs": [],
   "source": []
  },
  {
   "cell_type": "code",
   "execution_count": null,
   "metadata": {},
   "outputs": [],
   "source": []
  }
 ],
 "metadata": {
  "kernelspec": {
   "display_name": "Python 3",
   "language": "python",
   "name": "python3"
  },
  "language_info": {
   "codemirror_mode": {
    "name": "ipython",
    "version": 3
   },
   "file_extension": ".py",
   "mimetype": "text/x-python",
   "name": "python",
   "nbconvert_exporter": "python",
   "pygments_lexer": "ipython3",
   "version": "3.6.5"
  }
 },
 "nbformat": 4,
 "nbformat_minor": 2
}
