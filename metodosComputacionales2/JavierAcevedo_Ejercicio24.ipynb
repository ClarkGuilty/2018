{
 "cells": [
  {
   "cell_type": "code",
   "execution_count": 6,
   "metadata": {},
   "outputs": [],
   "source": [
    "import numpy as np\n",
    "import matplotlib.pyplot as plt\n",
    "import pandas as pd\n",
    "import numpy.random as ran\n",
    "from mpl_toolkits.mplot3d import Axes3D\n",
    "from sklearn.svm import LinearSVC, SVC\n",
    "from sklearn.model_selection import cross_val_score\n",
    "from sklearn.metrics.scorer import make_scorer\n",
    "from sklearn.model_selection import train_test_split\n",
    "from sklearn.cluster import KMeans\n",
    "from sklearn.preprocessing import StandardScaler\n",
    "\n",
    "#!wget https://vincentarelbundock.github.io/Rdatasets/csv/DAAG/dengue.csv"
   ]
  },
  {
   "cell_type": "code",
   "execution_count": 41,
   "metadata": {},
   "outputs": [],
   "source": [
    "data = pd.read_csv('dengue.csv',delimiter=',')\n",
    "#Z=data['Purchase'].copy()\n",
    "llaves = ['humid', 'temp' , 'h10pix', 'trees' , 'Xmin', 'Ymin']\n",
    "data = data[llaves].dropna()\n",
    "clusters = KMeans(n_clusters=4)\n",
    "maxClusters = 20\n",
    "inertia0 = np.zeros(maxClusters-1)\n",
    "\n",
    "for j in range(1,maxClusters):\n",
    "    clusters = KMeans(n_clusters=j)\n",
    "    clusters.fit(data)\n",
    "    inertia0[j-1] = clusters.inertia_"
   ]
  },
  {
   "cell_type": "code",
   "execution_count": 43,
   "metadata": {},
   "outputs": [
    {
     "data": {
      "text/plain": [
       "[<matplotlib.lines.Line2D at 0x7f2c6839f198>]"
      ]
     },
     "execution_count": 43,
     "metadata": {},
     "output_type": "execute_result"
    },
    {
     "data": {
      "image/png": "[encoded data removed]",
      "text/plain": [
       "<Figure size 432x288 with 1 Axes>"
      ]
     },
     "metadata": {
      "needs_background": "light"
     },
     "output_type": "display_data"
    }
   ],
   "source": [
    "plt.plot(np.arange(1,maxClusters), inertia0)"
   ]
  },
  {
   "cell_type": "code",
   "execution_count": 44,
   "metadata": {},
   "outputs": [
    {
     "data": {
      "text/plain": [
       "array([10182855.09889696,  5265635.6784609 ,  3020424.54564273,\n",
       "        2419906.54396151,  2142344.43643371,  1897668.89743359,\n",
       "        1703754.03177595,  1505500.72634324,  1336779.56831684,\n",
       "        1188849.79919202,  1072297.38648787,   989628.45600634,\n",
       "         910249.4480781 ,   831878.19011294,   794123.00585066,\n",
       "         753389.50997439,   735301.77014448,   692750.77012219,\n",
       "         657383.05429675])"
      ]
     },
     "execution_count": 44,
     "metadata": {},
     "output_type": "execute_result"
    }
   ],
   "source": [
    "inertia0"
   ]
  },
  {
   "cell_type": "markdown",
   "metadata": {},
   "source": [
    "# "
   ]
  }
 ],
 "metadata": {
  "kernelspec": {
   "display_name": "Python 3",
   "language": "python",
   "name": "python3"
  },
  "language_info": {
   "codemirror_mode": {
    "name": "ipython",
    "version": 3
   },
   "file_extension": ".py",
   "mimetype": "text/x-python",
   "name": "python",
   "nbconvert_exporter": "python",
   "pygments_lexer": "ipython3",
   "version": "3.7.0"
  }
 },
 "nbformat": 4,
 "nbformat_minor": 2
}
